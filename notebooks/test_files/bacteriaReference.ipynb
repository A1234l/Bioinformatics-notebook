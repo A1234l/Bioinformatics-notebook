{
 "cells": [
  {
   "cell_type": "code",
   "execution_count": 12,
   "metadata": {},
   "outputs": [
    {
     "name": "stdout",
     "output_type": "stream",
     "text": [
      "5594774\n"
     ]
    }
   ],
   "source": [
    "combinedLine = \"\"\n",
    "\n",
    "file = open('data_files/Ecoli.fna', 'r')\n",
    "\n",
    "# read = file.read()\n",
    "\n",
    "# print(read)\n",
    "\n",
    "for line in file:\n",
    "    if line.strip() == \">BA000007.3 Escherichia coli O157:H7 str. Sakai DNA, complete genome\":\n",
    "        combinedLine = \"\"\n",
    "    else:\n",
    "        combinedLine = combinedLine + line.strip()\n",
    "\n",
    "print(len(combinedLine))\n",
    "# print(combinedLine[0:10])\n",
    "\n",
    "file.close()"
   ]
  },
  {
   "cell_type": "code",
   "execution_count": 11,
   "metadata": {},
   "outputs": [
    {
     "name": "stdout",
     "output_type": "stream",
     "text": [
      "2821361\n"
     ]
    }
   ],
   "source": [
    "combinedLine = \"\"\n",
    "\n",
    "file = open('data_files/StaphAureus.fna', 'r')\n",
    "\n",
    "# read = file.read()\n",
    "\n",
    "# print(read)\n",
    "\n",
    "for line in file:\n",
    "    if line.strip() == \">CP000253.1 Staphylococcus aureus subsp. aureus NCTC 8325, complete genome\":\n",
    "        combinedLine = \"\"\n",
    "    else:\n",
    "        combinedLine = combinedLine + line.strip()\n",
    "\n",
    "print(len(combinedLine))\n",
    "# print(combinedLine[10])\n",
    "\n",
    "file.close()"
   ]
  },
  {
   "cell_type": "code",
   "execution_count": 10,
   "metadata": {},
   "outputs": [
    {
     "name": "stdout",
     "output_type": "stream",
     "text": [
      "4095979\n"
     ]
    }
   ],
   "source": [
    "combinedLine = \"\"\n",
    "\n",
    "file = open('data_files/ClostDiffi.fna', 'r')\n",
    "\n",
    "# read = file.read()\n",
    "\n",
    "# print(read)\n",
    "\n",
    "for line in file:\n",
    "    if line.strip() == \">CP076401.1 Clostridioides difficile strain S-0253 chromosome, complete genome\":\n",
    "        combinedLine = \"\"\n",
    "    else:\n",
    "        combinedLine = combinedLine + line.strip()\n",
    "\n",
    "print(len(combinedLine))\n",
    "# print(combinedLine[10])\n",
    "\n",
    "file.close()"
   ]
  },
  {
   "cell_type": "code",
   "execution_count": 9,
   "metadata": {},
   "outputs": [
    {
     "name": "stdout",
     "output_type": "stream",
     "text": [
      "1624538\n"
     ]
    }
   ],
   "source": [
    "combinedLine = \"\"\n",
    "\n",
    "file = open('data_files/HPylori.fna', 'r')\n",
    "\n",
    "# read = file.read()\n",
    "\n",
    "# print(read)\n",
    "\n",
    "for line in file:\n",
    "    if line.strip() == \">CP071982.1 Helicobacter pylori strain MT5135 chromosome, complete genome\":\n",
    "        combinedLine = \"\"\n",
    "    else:\n",
    "        combinedLine = combinedLine + line.strip()\n",
    "\n",
    "print(len(combinedLine))\n",
    "# print(combinedLine[10])\n",
    "\n",
    "file.close()"
   ]
  },
  {
   "cell_type": "code",
   "execution_count": 8,
   "metadata": {},
   "outputs": [
    {
     "name": "stdout",
     "output_type": "stream",
     "text": [
      "4411532\n"
     ]
    }
   ],
   "source": [
    "combinedLine = \"\"\n",
    "\n",
    "file = open('data_files/MTuber.fna', 'r')\n",
    "\n",
    "# read = file.read()\n",
    "\n",
    "# print(read)\n",
    "\n",
    "for line in file:\n",
    "    if line.strip() == \">AL123456.3 Mycobacterium tuberculosis H37Rv complete genome\":\n",
    "        combinedLine = \"\"\n",
    "    else:\n",
    "        combinedLine = combinedLine + line.strip()\n",
    "\n",
    "print(len(combinedLine))\n",
    "# print(combinedLine[10])\n",
    "\n",
    "file.close()"
   ]
  },
  {
   "cell_type": "code",
   "execution_count": 7,
   "metadata": {},
   "outputs": [
    {
     "name": "stdout",
     "output_type": "stream",
     "text": [
      "2171844\n"
     ]
    }
   ],
   "source": [
    "combinedLine = \"\"\n",
    "\n",
    "file = open('data_files/NGonorr.fna', 'r')\n",
    "\n",
    "# read = file.read()\n",
    "\n",
    "# print(read)\n",
    "\n",
    "for line in file:\n",
    "    if line.strip() == \">NZ_AP023069.1 Neisseria gonorrhoeae strain TUM19854 chromosome, complete genome\":\n",
    "        combinedLine = \"\"\n",
    "    else:\n",
    "        combinedLine = combinedLine + line.strip()\n",
    "\n",
    "print(len(combinedLine))\n",
    "# print(combinedLine[10])\n",
    "\n",
    "file.close()"
   ]
  },
  {
   "cell_type": "code",
   "execution_count": 6,
   "metadata": {},
   "outputs": [
    {
     "name": "stdout",
     "output_type": "stream",
     "text": [
      "6264404\n"
     ]
    }
   ],
   "source": [
    "combinedLine = \"\"\n",
    "\n",
    "file = open('data_files/PseudoA.fna', 'r')\n",
    "\n",
    "# read = file.read()\n",
    "\n",
    "# print(read)\n",
    "\n",
    "for line in file:\n",
    "    if line.strip() == \">NC_002516.2 Pseudomonas aeruginosa PAO1, complete genome\":\n",
    "        combinedLine = \"\"\n",
    "    else:\n",
    "        combinedLine = combinedLine + line.strip()\n",
    "\n",
    "print(len(combinedLine))\n",
    "# print(combinedLine[10])\n",
    "\n",
    "file.close()"
   ]
  },
  {
   "cell_type": "code",
   "execution_count": 5,
   "metadata": {},
   "outputs": [
    {
     "name": "stdout",
     "output_type": "stream",
     "text": [
      "4951491\n"
     ]
    }
   ],
   "source": [
    "combinedLine = \"\"\n",
    "\n",
    "file = open('data_files/Salmonella.fna', 'r')\n",
    "\n",
    "# read = file.read()\n",
    "\n",
    "# print(read)\n",
    "\n",
    "for line in file:\n",
    "    if line.strip() == \">AE006468.2 Salmonella enterica subsp. enterica serovar Typhimurium str. LT2, complete genome\":\n",
    "        combinedLine = \"\"\n",
    "    else:\n",
    "        combinedLine = combinedLine + line.strip()\n",
    "\n",
    "print(len(combinedLine))\n",
    "# print(combinedLine[10])\n",
    "\n",
    "file.close()"
   ]
  },
  {
   "cell_type": "code",
   "execution_count": 4,
   "metadata": {},
   "outputs": [
    {
     "name": "stdout",
     "output_type": "stream",
     "text": [
      "2944528\n"
     ]
    }
   ],
   "source": [
    "combinedLine = \"\"\n",
    "\n",
    "file = open('data_files/LMono.fna', 'r')\n",
    "\n",
    "# read = file.read()\n",
    "\n",
    "# print(read)\n",
    "\n",
    "for line in file:\n",
    "    if line.strip() == \">AL591824.1 Listeria monocytogenes EGD-e, complete genome\":\n",
    "        combinedLine = \"\"\n",
    "    else:\n",
    "        combinedLine = combinedLine + line.strip()\n",
    "\n",
    "print(len(combinedLine))\n",
    "# print(combinedLine[10])\n",
    "\n",
    "file.close()"
   ]
  },
  {
   "cell_type": "code",
   "execution_count": 3,
   "metadata": {},
   "outputs": [
    {
     "name": "stdout",
     "output_type": "stream",
     "text": [
      "4138559\n"
     ]
    }
   ],
   "source": [
    "combinedLine = \"\"\n",
    "\n",
    "file = open('data_files/VCholer.fna', 'r')\n",
    "\n",
    "# read = file.read()\n",
    "\n",
    "# print(read)\n",
    "\n",
    "for line in file:\n",
    "    if line.strip() == \">CP043554.1 Vibrio cholerae strain RFB16 chromosome 1, complete sequence\":\n",
    "        combinedLine = \"\"\n",
    "    else:\n",
    "        combinedLine = combinedLine + line.strip()\n",
    "\n",
    "print(len(combinedLine))\n",
    "# print(combinedLine[10])\n",
    "\n",
    "file.close()"
   ]
  },
  {
   "cell_type": "code",
   "execution_count": 2,
   "metadata": {},
   "outputs": [
    {
     "name": "stdout",
     "output_type": "stream",
     "text": [
      "3980314\n"
     ]
    }
   ],
   "source": [
    "combinedLine = \"\"\n",
    "\n",
    "file = open('data_files/ABaumannii.fna', 'r')\n",
    "\n",
    "# read = file.read()\n",
    "\n",
    "# print(read)\n",
    "\n",
    "for line in file:\n",
    "    if line.strip() == \">CP043953.1 Acinetobacter baumannii strain K09-14 chromosome, complete genome\":\n",
    "        combinedLine = \"\"\n",
    "    else:\n",
    "        combinedLine = combinedLine + line.strip()\n",
    "\n",
    "print(len(combinedLine))\n",
    "# print(combinedLine[10])\n",
    "\n",
    "file.close()"
   ]
  },
  {
   "cell_type": "code",
   "execution_count": 1,
   "metadata": {},
   "outputs": [
    {
     "name": "stdout",
     "output_type": "stream",
     "text": [
      "5682880\n"
     ]
    }
   ],
   "source": [
    "combinedLine = \"\"\n",
    "\n",
    "file = open('data_files/KPneum.fna', 'r')\n",
    "\n",
    "# read = file.read()\n",
    "\n",
    "# print(read)\n",
    "\n",
    "for line in file:\n",
    "    if line.strip() == \">CP003200.1 Klebsiella pneumoniae subsp. pneumoniae HS11286, complete genome\":\n",
    "        combinedLine = \"\"\n",
    "    else:\n",
    "        combinedLine = combinedLine + line.strip()\n",
    "\n",
    "print(len(combinedLine))\n",
    "# print(combinedLine[10])\n",
    "\n",
    "file.close()"
   ]
  }
 ],
 "metadata": {
  "kernelspec": {
   "display_name": "Python 3",
   "language": "python",
   "name": "python3"
  },
  "language_info": {
   "codemirror_mode": {
    "name": "ipython",
    "version": 3
   },
   "file_extension": ".py",
   "mimetype": "text/x-python",
   "name": "python",
   "nbconvert_exporter": "python",
   "pygments_lexer": "ipython3",
   "version": "3.8.10"
  },
  "orig_nbformat": 4
 },
 "nbformat": 4,
 "nbformat_minor": 2
}
