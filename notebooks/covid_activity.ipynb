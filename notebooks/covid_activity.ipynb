{
 "cells": [
  {
   "attachments": {},
   "cell_type": "markdown",
   "metadata": {},
   "source": [
    "# COVID Activity\n",
    "\n",
    "COVID activity 6/10/23"
   ]
  },
  {
   "cell_type": "code",
   "execution_count": 1,
   "metadata": {},
   "outputs": [
    {
     "name": "stdout",
     "output_type": "stream",
     "text": [
      "29903\n",
      "Position at:\n",
      "97\n",
      "CTCGGC\n",
      "Position at:\n",
      "8174\n",
      "CTCGGC\n",
      "Position at:\n",
      "23603\n",
      "CTCGGC\n",
      "Position at:\n",
      "29045\n",
      "CTCGGC\n"
     ]
    }
   ],
   "source": [
    "combinedLine = \"\"\n",
    "\n",
    "file = open('data_files/covid.fa', 'r')\n",
    "\n",
    "# read = file.read()\n",
    "\n",
    "# print(read)\n",
    "\n",
    "for line in file:\n",
    "    if line.strip() == \">NC_045512v2\":\n",
    "        combinedLine = \"\"\n",
    "    else:\n",
    "        combinedLine = combinedLine + line.strip()\n",
    "    \n",
    "print(len(combinedLine))\n",
    "\n",
    "i = 0\n",
    "\n",
    "while i<(len(combinedLine)-5):\n",
    "    stringPiece = combinedLine[i:i+6]\n",
    "    if stringPiece == \"CTCGGC\":\n",
    "        print(\"Position at:\")\n",
    "        print(i)\n",
    "        print(stringPiece)\n",
    "    i = i + 1\n",
    "\n",
    "file.close()"
   ]
  },
  {
   "cell_type": "code",
   "execution_count": 6,
   "metadata": {},
   "outputs": [
    {
     "name": "stdout",
     "output_type": "stream",
     "text": [
      "data_files/covid.fa\n"
     ]
    }
   ],
   "source": [
    "combinedLine = \"\"\n",
    "\n",
    "file = open('data_files/covid.fa', 'r')\n",
    "\n",
    "# read = file.read()\n",
    "\n",
    "# print(read)\n",
    "\n",
    "\n",
    "\n",
    "\n",
    "# Define the file name and the line number to remove (line numbers start from 1)\n",
    "file_name = \"data_files/covid.fa\"\n",
    "line_number_to_remove = 1  # Change this to the line number you want to remove\n",
    "\n",
    "# Create an empty list to store the lines to keep\n",
    "lines_to_keep = []\n",
    "\n",
    "# Open the file in read mode\n",
    "with open(file_name, 'r') as file:\n",
    "    # Iterate through the lines\n",
    "    for line_number, line in enumerate(file, start=1):\n",
    "        # Check if the current line number is the one to remove\n",
    "        if line_number != line_number_to_remove:\n",
    "            lines_to_keep.append(line)\n",
    "\n",
    "# Open the file in write mode to overwrite its contents\n",
    "with open(file_name, 'w') as file:\n",
    "    # Write the lines to keep back to the file\n",
    "    for line in lines_to_keep:\n",
    "        file.write(line)\n",
    "\n",
    "print(file_name)\n",
    "\n",
    "\n",
    "\n",
    "# for line in file:\n",
    "#     if line.strip() == \">NC_045512v2\":\n",
    "#         combinedLine = \"\"\n",
    "#     else:\n",
    "#         combinedLine = combinedLine + line.strip()\n",
    "    \n",
    "# print(len(combinedLine))\n",
    "\n",
    "# i = 0\n",
    "\n",
    "# while i<(len(combinedLine)-5):\n",
    "#     stringPiece = combinedLine[i:i+6]\n",
    "#     if stringPiece == \"CTCGGC\":\n",
    "#         print(\"Position at:\")\n",
    "#         print(i)\n",
    "#         print(stringPiece)\n",
    "#     i = i + 1\n",
    "\n",
    "file.close()"
   ]
  }
 ],
 "metadata": {
  "kernelspec": {
   "display_name": "Python 3",
   "language": "python",
   "name": "python3"
  },
  "language_info": {
   "codemirror_mode": {
    "name": "ipython",
    "version": 3
   },
   "file_extension": ".py",
   "mimetype": "text/x-python",
   "name": "python",
   "nbconvert_exporter": "python",
   "pygments_lexer": "ipython3",
   "version": "3.8.10"
  },
  "orig_nbformat": 4
 },
 "nbformat": 4,
 "nbformat_minor": 2
}
