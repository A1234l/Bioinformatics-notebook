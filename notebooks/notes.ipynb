{
 "cells": [
  {
   "cell_type": "markdown",
   "metadata": {},
   "source": [
    "# Notes from 11/4/23\n",
    "- After finding conserved regions between cholera and ecoli and then blast the two reference sequences against each other\n",
    "    - Then, run union.py to merge similarities\n",
    "    - Then do the opposite of intersection.py and removed the similar regions from the ecoli.txt\n",
    "\n",
    "## Writing a proposal\n",
    "- Finish all 12 species for e coli, but for other strains, we can assume there is only one cholera strain in the world(so use just the reference)\n",
    "    - This is for the sake of the proposal, for the real work we will find similarities conserved in every strain but for now we just do e coli for proposal\n",
    "\n",
    "## Objectives\n",
    "- Create ecoli.txt\n",
    "- Think of how to do the opposite of intersection.py"
   ]
  },
  {
   "cell_type": "markdown",
   "metadata": {},
   "source": [
    "# Plan for subtraction.py\n",
    "Comparing cholera and e coli:\n",
    "1. Blast reference strains of cholera and e coli, get the hit table\n",
    "2. Find the union of the similarities\n",
    "3. Compare to intersection of e coli. For any overlapping regions you remove it.\n",
    "    - Do the same for cholera\n",
    "4. The new lists that result are the unique regions for e coli and cholera: one list is for e coli unique regions, one list is for cholera unique regions"
   ]
  }
 ],
 "metadata": {
  "language_info": {
   "name": "python"
  }
 },
 "nbformat": 4,
 "nbformat_minor": 2
}
